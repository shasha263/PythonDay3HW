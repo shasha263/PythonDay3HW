{
 "cells": [
  {
   "cell_type": "markdown",
   "metadata": {},
   "source": [
    "# Functions, Scoping, Data Collections 1 & List Comprehensions"
   ]
  },
  {
   "cell_type": "markdown",
   "metadata": {},
   "source": [
    "## Tasks Today:\n",
    "\n",
    "1) String Manipulation <br>\n",
    " &nbsp;&nbsp;&nbsp;&nbsp; a) strip() <br>\n",
    " &nbsp;&nbsp;&nbsp;&nbsp; b) title() <br>\n",
    "2) Working With Lists <br>\n",
    " &nbsp;&nbsp;&nbsp;&nbsp; a) min() <br>\n",
    " &nbsp;&nbsp;&nbsp;&nbsp; b) max() <br>\n",
    " &nbsp;&nbsp;&nbsp;&nbsp; c) sum() <br>\n",
    " &nbsp;&nbsp;&nbsp;&nbsp; d) sort() <br>\n",
    " &nbsp;&nbsp;&nbsp;&nbsp; e) Copying a List <br>\n",
    " &nbsp;&nbsp;&nbsp;&nbsp; f) 'in' keyword <br>\n",
    " &nbsp;&nbsp;&nbsp;&nbsp; g) 'not in' keyword <br>\n",
    " &nbsp;&nbsp;&nbsp;&nbsp; i) Checking an Empty List <br>\n",
    " &nbsp;&nbsp;&nbsp;&nbsp; j) Removing Instances with a Loop <br>\n",
    "3) List Comprehensions <br>\n",
    "4) Tuples <br>\n",
    " &nbsp;&nbsp;&nbsp;&nbsp; a) sorted() <br>\n",
    "5) Functions <br>\n",
    " &nbsp;&nbsp;&nbsp;&nbsp; a) User-Defined vs. Built-In Functions <br>\n",
    " &nbsp;&nbsp;&nbsp;&nbsp; b) Accepting Parameters <br>\n",
    " &nbsp;&nbsp;&nbsp;&nbsp; c) Default Parameters <br>\n",
    " &nbsp;&nbsp;&nbsp;&nbsp; d) Making an Argument Optional <br>\n",
    " &nbsp;&nbsp;&nbsp;&nbsp; e) Keyword Arguments <br>\n",
    " &nbsp;&nbsp;&nbsp;&nbsp; f) Returning Values <br>\n",
    " &nbsp;&nbsp;&nbsp;&nbsp; g) *args <br>\n",
    " &nbsp;&nbsp;&nbsp;&nbsp; h) Docstring <br>\n",
    " &nbsp;&nbsp;&nbsp;&nbsp; i) Using a User Function in a Loop <br>\n",
    "6) Scope"
   ]
  },
  {
   "cell_type": "markdown",
   "metadata": {},
   "source": [
    "### String Manipulation"
   ]
  },
  {
   "cell_type": "code",
   "execution_count": 2,
   "metadata": {},
   "outputs": [],
   "source": [
    "# string with lots of extra whitespace\n",
    "actor = '           Viggo Mortensen      '"
   ]
  },
  {
   "cell_type": "markdown",
   "metadata": {},
   "source": [
    "##### .lstrip()"
   ]
  },
  {
   "cell_type": "code",
   "execution_count": 4,
   "metadata": {},
   "outputs": [
    {
     "name": "stdout",
     "output_type": "stream",
     "text": [
      "Viggo Mortensen      \n",
      "           Viggo Mortensen      \n"
     ]
    }
   ],
   "source": [
    "# string.lstrip()\n",
    "# removing extra whitespace from the start/left\n",
    "ls = actor.lstrip()\n",
    "print(ls)\n",
    "print(actor)"
   ]
  },
  {
   "cell_type": "markdown",
   "metadata": {},
   "source": [
    "##### .rstrip()"
   ]
  },
  {
   "cell_type": "code",
   "execution_count": 5,
   "metadata": {},
   "outputs": [
    {
     "data": {
      "text/plain": [
       "'           Viggo Mortensen'"
      ]
     },
     "execution_count": 5,
     "metadata": {},
     "output_type": "execute_result"
    }
   ],
   "source": [
    "# string.rstrip()\n",
    "# removes extra whitespace from the end/right\n",
    "actor.rstrip()"
   ]
  },
  {
   "cell_type": "markdown",
   "metadata": {},
   "source": [
    "##### .strip()"
   ]
  },
  {
   "cell_type": "code",
   "execution_count": 8,
   "metadata": {},
   "outputs": [
    {
     "name": "stdout",
     "output_type": "stream",
     "text": [
      "Viggo Mortensen\n",
      "           Viggo Mortensen      \n",
      "Viggo Mortensen\n"
     ]
    }
   ],
   "source": [
    "# string.strip()\n",
    "# removes extra whitespace from both the start and end of the string\n",
    "stripped = actor.strip()\n",
    "print(stripped)\n",
    "print(actor)\n",
    "actor = actor.strip()\n",
    "print(actor)"
   ]
  },
  {
   "cell_type": "markdown",
   "metadata": {},
   "source": [
    "##### .title()"
   ]
  },
  {
   "cell_type": "code",
   "execution_count": 9,
   "metadata": {},
   "outputs": [
    {
     "name": "stdout",
     "output_type": "stream",
     "text": [
      "Viggo Mortensen\n"
     ]
    }
   ],
   "source": [
    "# string.title()\n",
    "# like .lower(), .upper()\n",
    "actor = 'vIggo MORTENseN'\n",
    "actor = actor.title()\n",
    "print(actor)"
   ]
  },
  {
   "cell_type": "markdown",
   "metadata": {},
   "source": [
    "### String Exercise <br>\n",
    "<p>Strip all white space and capitalize every name in the list given</p>"
   ]
  },
  {
   "cell_type": "code",
   "execution_count": 16,
   "metadata": {},
   "outputs": [
    {
     "name": "stdout",
     "output_type": "stream",
     "text": [
      "['Connor', 'Max', 'Evan', 'Jordan']\n"
     ]
    }
   ],
   "source": [
    "names = ['    coNNor', 'max', ' EVan ', 'JORDAN']\n",
    "# HINT: You will need to use a for loop for iteration\n",
    "\n",
    "# start: ['    coNNor', 'max', ' EVan ', 'JORDAN']\n",
    "\n",
    "# end: ['Connor', 'Max', 'Evan', 'Jordan']\n",
    "\n",
    "# 1. just set up my loop -> make sure I can access and modify if I want each item in the list\n",
    "# 2. Fix #1 -> remove the whitespace\n",
    "# 3. Fix #2 -> fix capitlization\n",
    "\n",
    "# for-in loop\n",
    "# looping through the indexes of a list\n",
    "    # why this is important: we can use this kind of loop to modify the values in a list\n",
    "    # any time you see a problem requesting that you modify the values in a list\n",
    "        # that is a clue to use an index loop/loop through the list's indexes\n",
    "for i in range(len(names)):\n",
    "    # indexing into a list: name_of_list[index_number]\n",
    "    #print(i, names[i])\n",
    "    # set up our modification step\n",
    "    # another way to say modify the values in a list\n",
    "    # is just to say redefine the value at that index in the list\n",
    "    # do variable assignment on a list index\n",
    "    names[i] = names[i].strip().title()\n",
    "    #print(i, names[i])\n",
    "    #names[i] = names[i].title() refactoring -> move the .title() function call to be chained off the back of the .strip()\n",
    "    #print(i, names[i])\n",
    "\n",
    "print(names)\n",
    "    "
   ]
  },
  {
   "cell_type": "code",
   "execution_count": 18,
   "metadata": {},
   "outputs": [
    {
     "name": "stdout",
     "output_type": "stream",
     "text": [
      "['Connor', 'Max', 'Evan', 'Jordan']\n"
     ]
    }
   ],
   "source": [
    "names = ['    coNNor', 'max', ' EVan ', 'JORDAN']\n",
    "\n",
    "for i in range(len(names)):\n",
    "    names[i] = names[i].strip().title()\n",
    "\n",
    "print(names)"
   ]
  },
  {
   "cell_type": "markdown",
   "metadata": {},
   "source": [
    "### Working With Lists"
   ]
  },
  {
   "cell_type": "code",
   "execution_count": 35,
   "metadata": {},
   "outputs": [],
   "source": [
    "# run this block to define the lists for use below\n",
    "nicknames = ['Zed', 'Burton Guster', 'Doctor McTock', 'Metheuselah Honeysuckle', 'Lavender Gooms']\n",
    "nums = [17, 293, 21, 25, 74, 2, 35, -30]"
   ]
  },
  {
   "cell_type": "markdown",
   "metadata": {},
   "source": [
    "##### min()"
   ]
  },
  {
   "cell_type": "code",
   "execution_count": 36,
   "metadata": {},
   "outputs": [
    {
     "name": "stdout",
     "output_type": "stream",
     "text": [
      "-30\n",
      "Burton Guster\n"
     ]
    }
   ],
   "source": [
    "# min(list)\n",
    "print(min(nums)) # minimum number\n",
    "print(min(nicknames)) # earliest string by alphabetical order"
   ]
  },
  {
   "cell_type": "markdown",
   "metadata": {},
   "source": [
    "##### max()"
   ]
  },
  {
   "cell_type": "code",
   "execution_count": 37,
   "metadata": {},
   "outputs": [
    {
     "name": "stdout",
     "output_type": "stream",
     "text": [
      "293\n",
      "Zed\n"
     ]
    }
   ],
   "source": [
    "# max(list)\n",
    "print(max(nums))\n",
    "print(max(nicknames))"
   ]
  },
  {
   "cell_type": "markdown",
   "metadata": {},
   "source": [
    "##### sum()"
   ]
  },
  {
   "cell_type": "code",
   "execution_count": 31,
   "metadata": {},
   "outputs": [
    {
     "data": {
      "text/plain": [
       "437"
      ]
     },
     "execution_count": 31,
     "metadata": {},
     "output_type": "execute_result"
    }
   ],
   "source": [
    "# sum(list)\n",
    "sum(nums)"
   ]
  },
  {
   "cell_type": "markdown",
   "metadata": {},
   "source": [
    "##### sorted()"
   ]
  },
  {
   "cell_type": "code",
   "execution_count": 41,
   "metadata": {},
   "outputs": [
    {
     "name": "stdout",
     "output_type": "stream",
     "text": [
      "['Zed', 'Burton Guster', 'Doctor McTock', 'Metheuselah Honeysuckle', 'Lavender Gooms']\n",
      "['Zed', 'Burton Guster', 'Doctor McTock', 'Metheuselah Honeysuckle', 'Lavender Gooms']\n",
      "['Zed', 'Metheuselah Honeysuckle', 'Lavender Gooms', 'Doctor McTock', 'Burton Guster']\n"
     ]
    }
   ],
   "source": [
    "# sorted(list)\n",
    "nicknames = ['Zed', 'Burton Guster', 'Doctor McTock', 'Metheuselah Honeysuckle', 'Lavender Gooms']\n",
    "print(nicknames)\n",
    "sorted_nicknames = sorted(nicknames, reverse=True) # printing the return value of the sorted() function\n",
    "print(nicknames)\n",
    "print(sorted_nicknames)\n",
    "\n",
    "# sorted() creates a sorted copy of the list\n",
    "# sorted() is what is known as an out of place algorithm/process\n",
    "# we don't modify the original list directly\n",
    "\n",
    "# optional parameter: reverse=True/False (defaults False)"
   ]
  },
  {
   "cell_type": "markdown",
   "metadata": {},
   "source": [
    "##### .sort() <br>\n",
    "<p>Difference between sort and sorted, is that sorted doesn't change original list it returns a copy, while .sort changes the original list</p>"
   ]
  },
  {
   "cell_type": "code",
   "execution_count": 44,
   "metadata": {},
   "outputs": [
    {
     "name": "stdout",
     "output_type": "stream",
     "text": [
      "['Zed', 'Burton Guster', 'Doctor McTock', 'Metheuselah Honeysuckle', 'Lavender Gooms']\n",
      "['Burton Guster', 'Doctor McTock', 'Lavender Gooms', 'Metheuselah Honeysuckle', 'Zed']\n",
      "[-30, 2, 17, 21, 25, 35, 74, 293]\n"
     ]
    }
   ],
   "source": [
    "# list.sort()\n",
    "nicknames = ['Zed', 'Burton Guster', 'Doctor McTock', 'Metheuselah Honeysuckle', 'Lavender Gooms']\n",
    "print(nicknames)\n",
    "nicknames.sort()\n",
    "print(nicknames)\n",
    "\n",
    "# .sort() is an in-place algorithm -> directly modifies whatever it is called on\n",
    "# use sorted when you don't want to alter original list, use .sort() when you want to alter original list\n",
    "\n",
    "# for strings the default behavior is to sort alphabetically\n",
    "# for numbers the default behavior is to sort by value ascending\n",
    "# something that we'll look at in the future is sorting by a custom parameter that we define\n",
    "    # aka sorting by another function"
   ]
  },
  {
   "cell_type": "markdown",
   "metadata": {},
   "source": [
    "##### Copying a List"
   ]
  },
  {
   "cell_type": "code",
   "execution_count": 46,
   "metadata": {},
   "outputs": [
    {
     "name": "stdout",
     "output_type": "stream",
     "text": [
      "['Burton Guster', 'Doctor McTock', 'Metheuselah Honeysuckle', 'Lavender Gooms']\n",
      "['Burton Guster', 'Doctor McTock', 'Metheuselah Honeysuckle', 'Lavender Gooms']\n",
      "['Burton Guster', 'Doctor McTock', 'Metheuselah Honeysuckle', 'Lavender Gooms']\n"
     ]
    }
   ],
   "source": [
    "# [:] copies a list, doesn't alter original\n",
    "# two methods of creating a copy of a list\n",
    "# .copy() method\n",
    "nicknames = ['Burton Guster', 'Doctor McTock', 'Metheuselah Honeysuckle', 'Lavender Gooms']\n",
    "ncopy = nicknames.copy()\n",
    "scopy = nicknames[:] # most commonly used approach\n",
    "print(nicknames)\n",
    "print(ncopy)\n",
    "print(scopy)\n",
    "\n",
    "# why bother creating a copy? why not just say ncopy = nicknames?\n",
    "# that again gets back to reference/memory location\n",
    "# using .copy() or [:] creates a copy at a different memory location\n",
    "# such that modifying one list doesn't modify them both\n",
    "# basically unless you have a very intentional reason to do so, don't just do ncopy = nicknames"
   ]
  },
  {
   "cell_type": "markdown",
   "metadata": {},
   "source": [
    "##### 'in' keyword"
   ]
  },
  {
   "cell_type": "code",
   "execution_count": 48,
   "metadata": {},
   "outputs": [
    {
     "name": "stdout",
     "output_type": "stream",
     "text": [
      "That nickname is in my list of nicknames\n"
     ]
    }
   ],
   "source": [
    "nicknames = ['Burton Guster', 'Doctor McTock', 'Metheuselah Honeysuckle', 'Lavender Gooms']\n",
    "\n",
    "# checking if a value is in a list\n",
    "# this is often called a membership test\n",
    "if 'Doctor McTock' in nicknames:\n",
    "    print('That nickname is in my list of nicknames')"
   ]
  },
  {
   "cell_type": "markdown",
   "metadata": {},
   "source": [
    "##### 'not in' keyword"
   ]
  },
  {
   "cell_type": "code",
   "execution_count": 49,
   "metadata": {},
   "outputs": [
    {
     "name": "stdout",
     "output_type": "stream",
     "text": [
      "That nickname is NOT in my list of nicknames\n"
     ]
    }
   ],
   "source": [
    "# evaluates to True if the provided value is NOT in the list\n",
    "if 'Spiderman' not in nicknames:\n",
    "    print('That nickname is NOT in my list of nicknames')"
   ]
  },
  {
   "cell_type": "markdown",
   "metadata": {},
   "source": [
    "##### Checking an Empty List"
   ]
  },
  {
   "cell_type": "code",
   "execution_count": 54,
   "metadata": {},
   "outputs": [
    {
     "name": "stdout",
     "output_type": "stream",
     "text": [
      "line4 True: l_1 is empty\n",
      "line10 True: not [] evaluates to True\n"
     ]
    }
   ],
   "source": [
    "# if l_1: or if l_1 == []\n",
    "l_1 = []\n",
    "\n",
    "if l_1 == []:\n",
    "    print('line4 True: l_1 is empty')\n",
    "\n",
    "# an empty list does have an intrinsic False value\n",
    "if l_1:\n",
    "    print('line8 False: oops this wont print')\n",
    "if not l_1:\n",
    "    print('line10 True: not [] evaluates to True')"
   ]
  },
  {
   "cell_type": "markdown",
   "metadata": {},
   "source": [
    "##### Removing Instances with a Loop"
   ]
  },
  {
   "cell_type": "code",
   "execution_count": 70,
   "metadata": {},
   "outputs": [
    {
     "name": "stdout",
     "output_type": "stream",
     "text": [
      "2 4 ['Doctor McTock', 'Metheuselah Honeysuckle', 'Burton Guster', 'Lavender Gooms']\n",
      "2 3 ['Doctor McTock', 'Metheuselah Honeysuckle', 'Lavender Gooms']\n",
      "['Doctor McTock', 'Metheuselah Honeysuckle', 'Lavender Gooms']\n"
     ]
    }
   ],
   "source": [
    "# while, list.remove(value)\n",
    "# use a loop to remove multiple instances/values from a list\n",
    "# you will want to use a while loop\n",
    "nicknames = ['Burton Guster', 'Doctor McTock', 'Metheuselah Honeysuckle', 'Burton Guster', 'Lavender Gooms']\n",
    "# 'Burton Guster' is not a nickname and therefore should not be in the list\n",
    "# remove all instances of 'Burton Guster' from our list\n",
    "\n",
    "while 'Burton Guster' in nicknames:\n",
    "    nicknames.remove('Burton Guster')\n",
    "    print(x, len(nicknames), nicknames)\n",
    "print(nicknames)"
   ]
  },
  {
   "cell_type": "markdown",
   "metadata": {},
   "source": [
    "### List Exercise <br>\n",
    "<p>Remove all duplicates<br><b>Extra: Create a program that will remove any duplicates from a given list</b></p>"
   ]
  },
  {
   "cell_type": "code",
   "execution_count": null,
   "metadata": {},
   "outputs": [],
   "source": [
    "names = ['connor', 'connor', 'bob', 'connor', 'evan', 'max', 'evan', 2, 2, 2, 3, 3, 4, 'bob', 'kevin']\n",
    "# Hint 1: You will need an append\n",
    "# Hint 2: Using an empty list will make life easier\n",
    "\n",
    "\n",
    "# This is a good challenging exercise to do over Thanksgiving\n",
    "# using an empty new list instead of altering the original list will be easier\n",
    "# therefore you'll need to use a loop, a conditional membership test, and the .append() method"
   ]
  },
  {
   "cell_type": "markdown",
   "metadata": {},
   "source": [
    "### List Comprehensions <br>\n",
    "<p>Creating a quickly generated list to work with<br>*result*  = [*transform*    *iteration*         *filter*     ]</p>"
   ]
  },
  {
   "cell_type": "markdown",
   "metadata": {},
   "source": [
    "##### In a list comprehension we have a few pieces:\n",
    "1. The first is a transform for the variable\n",
    "2. then we have the counter/ variable - IN this the variable is x\n",
    "3. The finale part of a list comp is called the condition\n",
    "\n",
    "```python\n",
    "    [ transform, variable, condition]\n",
    "```"
   ]
  },
  {
   "cell_type": "code",
   "execution_count": 72,
   "metadata": {},
   "outputs": [
    {
     "name": "stdout",
     "output_type": "stream",
     "text": [
      "[8, 146, 10, 12, 37, 1, 17, -15]\n",
      "[8, 146, 10, 12, 37, 1, 17, -15]\n"
     ]
    }
   ],
   "source": [
    "# number comprehension\n",
    "nums = [17, 293, 21, 25, 74, 2, 35, -30]\n",
    "# With a regular for loop\n",
    "halvednums = []\n",
    "for x in nums:\n",
    "    halvednums.append(x//2)\n",
    "print(halvednums)\n",
    "\n",
    "# IN a list comprehension we have a few pieces:\n",
    "# The first is the counter/ variable - IN this the variable is x\n",
    "# Then we have a transform for the variable \n",
    "# The finale part of a list comp is called the condition\n",
    "#[variable, transform, condition]\n",
    "\n",
    "halvednums = [x//2 for x in nums]\n",
    "print(halvednums)\n",
    "\n"
   ]
  },
  {
   "cell_type": "markdown",
   "metadata": {},
   "source": [
    "There are a few benefits to using List comprehensions. The most obvious would be that we now have shorter code to work with instead of using 3+ lines of code in the for loop variant.\n",
    "\n",
    "Another is an added benefit to memory usage. Since the list's memory is allocated first before adding elements to it, we don't have to resize the list once we add elements to it.\n",
    "\n",
    "Lastly, list comprehensions are considered the \"pythonic\" way to write code by the PEP8 standards (Python Style Guide)"
   ]
  },
  {
   "cell_type": "code",
   "execution_count": 74,
   "metadata": {},
   "outputs": [
    {
     "name": "stdout",
     "output_type": "stream",
     "text": [
      "[1, 4, 9, 16, 25, 36, 49, 64, 81, 100]\n",
      "[1, 4, 9, 16, 25, 36, 49, 64, 81, 100]\n"
     ]
    }
   ],
   "source": [
    "# square number comprehension\n",
    "# i want a list of the squares of numbers from 1 to 10\n",
    "sqs = []\n",
    "for x in range(1, 11):\n",
    "    sqs.append(x**2)\n",
    "print(sqs)\n",
    "\n",
    "sqscomp = [x**2 for x in range(1, 11)]\n",
    "print(sqscomp)"
   ]
  },
  {
   "cell_type": "code",
   "execution_count": 76,
   "metadata": {},
   "outputs": [
    {
     "name": "stdout",
     "output_type": "stream",
     "text": [
      "[1, 9, 25, 49, 81]\n",
      "[1, 9, 25, 49, 81]\n"
     ]
    }
   ],
   "source": [
    "# what if I only wanted the odd squares aka if the square of x was divisible by 2\n",
    "# I can provide a \"conditional filter\" at the end of my list comprehension\n",
    "\n",
    "# for loop version\n",
    "oddsql = []\n",
    "for x in range(1,11):\n",
    "    if x**2 % 2 != 0:\n",
    "        oddsql.append(x**2)\n",
    "print(oddsql)\n",
    "\n",
    "# list comprehension version\n",
    "oddsqs = [x**2 for x in range(1,11) if x**2 % 2 != 0]\n",
    "print(oddsqs)"
   ]
  },
  {
   "cell_type": "code",
   "execution_count": 79,
   "metadata": {},
   "outputs": [
    {
     "name": "stdout",
     "output_type": "stream",
     "text": [
      "['Doctor McTock', 'Metheuselah Honeysuckle', 'Lavender Gooms']\n",
      "['Doctor McTock', 'Metheuselah Honeysuckle', 'Lavender Gooms']\n",
      "['Doctor McTock', 'Metheuselah Honeysuckle', 'Lavender Gooms']\n"
     ]
    }
   ],
   "source": [
    "# string comprehension\n",
    "nicknames = ['Burton Guster', 'Doctor McTock', 'Metheuselah Honeysuckle', 'Burton Guster', 'Lavender Gooms']\n",
    "# redefine nicknames based on a list comprehension\n",
    "nicknames = [name for name in nicknames if name != 'Burton Guster']\n",
    "print(nicknames)\n",
    "\n",
    "# similar process with for loop -> FAR less memory efficient and 6 lines of code instead of 1\n",
    "placeholder_list = []\n",
    "for name in nicknames:\n",
    "    if name != 'Burton Guster':\n",
    "        placeholder_list.append(name)\n",
    "print(placeholder_list)\n",
    "nicknames = placeholder_list #yes I am not using a copy intentionally here\n",
    "del placeholder_list # after nicknames is redefined I no longer need the placeholder_list variable at all (del line not super necessary)\n",
    "print(nicknames)"
   ]
  },
  {
   "cell_type": "code",
   "execution_count": null,
   "metadata": {},
   "outputs": [],
   "source": []
  },
  {
   "cell_type": "code",
   "execution_count": null,
   "metadata": {},
   "outputs": [],
   "source": [
    "# dictionary comprehensions now also exist - more on those next week"
   ]
  },
  {
   "cell_type": "markdown",
   "metadata": {},
   "source": [
    "### Tuples <br>\n",
    "<p><b>Defined as an immutable list</b></p><br>Seperated by commas using parenthesis. Tuples are our second main data structure/collection. They are the collection we will use the least often. They are also one of the simplest collections to understand. It is just like a list EXCEPT for one thing. A tuple is ordered, a tuple is indexed. However, a tuple cannot be changed once it has been created. It is quite literally just an immutable list.</p>"
   ]
  },
  {
   "cell_type": "code",
   "execution_count": 90,
   "metadata": {},
   "outputs": [
    {
     "name": "stdout",
     "output_type": "stream",
     "text": [
      "('Fox', 'Bear', 'Pig')\n",
      "Fox\n",
      "['Fox', 'Bear', 'Pig']\n"
     ]
    }
   ],
   "source": [
    "# syntax clue for a tuple -> parenthesis around comma separated values\n",
    "myTuple = ('Fox', 'Bear', 'Pig')\n",
    "print(myTuple)\n",
    "print(myTuple[0])\n",
    "\n",
    "listversion = list(myTuple)\n",
    "print(listversion)"
   ]
  },
  {
   "cell_type": "markdown",
   "metadata": {},
   "source": [
    "##### sorted()"
   ]
  },
  {
   "cell_type": "code",
   "execution_count": 94,
   "metadata": {},
   "outputs": [
    {
     "name": "stdout",
     "output_type": "stream",
     "text": [
      "['Bear', 'Fox', 'Pig']\n",
      "('Fox', 'Bear', 'Pig')\n",
      "('Bear', 'Fox', 'Pig')\n"
     ]
    }
   ],
   "source": [
    "# doesn't directly modify the tuple -> creates a list copy and modifies that\n",
    "print(sorted(myTuple))\n",
    "# takes in a tuple, returns a list\n",
    "\n",
    "# by definition we cannot modify a tuple\n",
    "# if in practice we wanted to sort a tuple\n",
    "# we would have to create the list copy -> sort the list copy -> turn it back into a tuple ->\n",
    "    # and redefine the original tuple's variable\n",
    "# tuple() takes in a collection and creates a tuple version of it\n",
    "print(myTuple)\n",
    "myTuple = tuple(sorted(myTuple))\n",
    "print(myTuple)"
   ]
  },
  {
   "cell_type": "markdown",
   "metadata": {},
   "source": [
    "##### Adding values to a Tuple"
   ]
  },
  {
   "cell_type": "code",
   "execution_count": 98,
   "metadata": {},
   "outputs": [
    {
     "name": "stdout",
     "output_type": "stream",
     "text": [
      "('Bear', 'Fox', 'Pig')\n",
      "['Bear', 'Fox', 'Pig']\n",
      "['Bear', 'Fox', 'Pig', 'Chicken']\n",
      "('Bear', 'Fox', 'Pig', 'Chicken')\n"
     ]
    }
   ],
   "source": [
    "# have to create a list representation of the tuple\n",
    "# add the values to that list\n",
    "# then transform that list back to a tuple and redefine the original variable\n",
    "print(myTuple)\n",
    "mylist = list(myTuple)\n",
    "print(mylist)\n",
    "mylist.append('Chicken')\n",
    "print(mylist)\n",
    "myTuple = tuple(mylist)\n",
    "print(myTuple)"
   ]
  },
  {
   "cell_type": "code",
   "execution_count": 100,
   "metadata": {},
   "outputs": [
    {
     "name": "stdout",
     "output_type": "stream",
     "text": [
      "Bear\n",
      "Fox\n",
      "Pig\n",
      "Chicken\n",
      "['Bear!', 'Fox!', 'Pig!']\n"
     ]
    }
   ],
   "source": [
    "# just like lists you can loop through tuples the same way\n",
    "for a in myTuple:\n",
    "    print(a)\n",
    "    \n",
    "# or use it in a list comprehension\n",
    "excitinganimals = [x+'!' for x in myTuple if x != 'Chicken']\n",
    "print(excitinganimals)"
   ]
  },
  {
   "cell_type": "markdown",
   "metadata": {},
   "source": [
    "## Functions"
   ]
  },
  {
   "cell_type": "markdown",
   "metadata": {},
   "source": [
    "##### User-Defined vs. Built-In Functions"
   ]
  },
  {
   "cell_type": "code",
   "execution_count": 106,
   "metadata": {},
   "outputs": [
    {
     "name": "stdout",
     "output_type": "stream",
     "text": [
      "\n",
      "Hello\n",
      "Hello, again\n",
      "Hello\n",
      "Hello, again\n"
     ]
    }
   ],
   "source": [
    "# with a built-in function, the function definition is taken care of for us/prewritten\n",
    "# with a user-defined function, we are writing the function definition ourselves\n",
    "\n",
    "# with both, we call the function in the same manner\n",
    "print() # calling the print function\n",
    "range(5) # calling the range function, passing in 5 as a positional argument aka a parameter\n",
    "\n",
    "# with a UDF (user-defined function) we must write the definition ourselves\n",
    "def printHello():\n",
    "    print('Hello')\n",
    "    print('Hello, again')\n",
    "\n",
    "# here we have defined our own process our own function\n",
    "# that we can tell to run by calling it just like we would a built-in function\n",
    "printHello()\n",
    "printHello()\n",
    "\n",
    "# two main sections -> the function definition\n",
    "# which defines the process and actively doesn't do anything\n",
    "\n",
    "# the function call\n",
    "# which actively runs the process\n",
    "\n",
    "# variable assignment is to a variable\n",
    "# like\n",
    "# a function definition is to a function"
   ]
  },
  {
   "cell_type": "markdown",
   "metadata": {},
   "source": [
    "##### Accepting Parameters"
   ]
  },
  {
   "cell_type": "code",
   "execution_count": 116,
   "metadata": {},
   "outputs": [
    {
     "name": "stdout",
     "output_type": "stream",
     "text": [
      "The Turkey and the Moose wish you all a happy Thanksgiving.\n",
      "The Duck and the Turduckin wish you all a happy Thanksgiving.\n"
     ]
    }
   ],
   "source": [
    "# def functionName(<parameters>,<parameters>,<parameters>):\n",
    "# each parameter is a piece of data that we need to provide in the function call\n",
    "\n",
    "# range(<start>, <stop>, <step>)\n",
    "# so in the background of range's definition there is code that looks like this\n",
    "# def range(start, stop, step):\n",
    "\n",
    "# I have to make a decision about how many parameters I want my function to accept\n",
    "# All this is really saying is how many external pieces of data do I want my function to work with\n",
    "# Is my function modifying a single list? then it just needs one parameter\n",
    "# is my function blending 3 strings together? then it needs three parameters, one for each string\n",
    "# determining what you place in the parenthesis of the def line (aka what your parameters are)\n",
    "# is solely dependent on what external data you decide you need to work with in the function\n",
    "\n",
    "# myFunction should accept two strings and give me back a holiday greeting\n",
    "# idea: accepts 'Turkey' and 'Moose'\n",
    "# ouputs: 'The Turkey and the Moose wish you all a happy Thanksgiving.'\n",
    "def myFunction(s1, s2):\n",
    "    # whatever process I write my function as should be written using those parameters\n",
    "    # as placeholders for the literal values you intend to work with\n",
    "    print(f'The {s1} and the {s2} wish you all a happy Thanksgiving.')\n",
    "\n",
    "myFunction('Turkey', 'Moose')\n",
    "\n",
    "# i designed this function with 'Turkey' and 'Moose' in mind\n",
    "# but it will work with any string inputs/parameters\n",
    "myFunction('Duck', 'Turduckin')"
   ]
  },
  {
   "cell_type": "code",
   "execution_count": 111,
   "metadata": {},
   "outputs": [],
   "source": [
    "# you are given a list of numbers and an integer value\n",
    "# \"you are given\"\n",
    "# \"your function should accept\"\n",
    "# \"your inputs are\"\n",
    "# clues as to what your parameters of your function should be\n",
    "\n",
    "# that tells me my function needs to accept two parameters\n",
    "# I should plan around one being a list of numbers\n",
    "# and one being an integer\n",
    "def myFunction(nums, x):\n",
    "    pass\n",
    "    # whatever my function winds up doing, I've set myself up to take in or test or run with the proper inputs\n",
    "a_list = [1, 2, 3, 4, 5]\n",
    "myFunction(a_list, 80)"
   ]
  },
  {
   "cell_type": "code",
   "execution_count": 115,
   "metadata": {},
   "outputs": [],
   "source": [
    "# parameter name should not exist outside of the function\n",
    "# if you're already using a variable name for something, don't use it for an entirely different thing\n",
    "\n",
    "# if I have two lists a_list and b_list, I should not use a_List or b_list as a parameter name for a function\n",
    "a_list = [1, 2, 3, 4, 5]\n",
    "b_list = [3, 4, 5, 6]\n",
    "\n",
    "def func(a_list):\n",
    "    # process that does something\n",
    "    pass\n"
   ]
  },
  {
   "cell_type": "code",
   "execution_count": 119,
   "metadata": {},
   "outputs": [
    {
     "name": "stdout",
     "output_type": "stream",
     "text": [
      "d c\n"
     ]
    }
   ],
   "source": [
    "# positional arguments\n",
    "# normal approach to providing values for parameters is by the order in which they are placed in the func call and def\n",
    "\n",
    "def func(i1, i2, i3, i4):\n",
    "    print(i4, i3)\n",
    "    \n",
    "func('a', 'b', 'c', 'd')"
   ]
  },
  {
   "cell_type": "markdown",
   "metadata": {},
   "source": [
    "##### Default Parameters"
   ]
  },
  {
   "cell_type": "code",
   "execution_count": 125,
   "metadata": {},
   "outputs": [
    {
     "name": "stdout",
     "output_type": "stream",
     "text": [
      "d c\n",
      "a b\n",
      "dog cat\n",
      "ant bear\n",
      "dog c\n",
      "ant bear\n"
     ]
    }
   ],
   "source": [
    "# we can give parameters default values\n",
    "# done by essentially doing variable assignment on the parameters in the function definition line\n",
    "def func(i1, i2, i3='c', i4='d'):\n",
    "    print(i4, i3)\n",
    "    print(i1, i2)\n",
    "    \n",
    "func('a', 'b')\n",
    "# i could still provide a non-default value if i wanted   \n",
    "func('ant', 'bear', 'cat', 'dog')\n",
    "\n",
    "# to not follow position based arguments and provide greater freedom with default arguments\n",
    "# we need to use keyword arguments\n",
    "# keyword arguments are another way we can tie a value to a parameter\n",
    "# to use a keyword argument, just use the parameter like you were giving it a default value\n",
    "func('ant', 'bear', i4='dog')"
   ]
  },
  {
   "cell_type": "markdown",
   "metadata": {},
   "source": [
    "##### Making an Argument Optional"
   ]
  },
  {
   "cell_type": "code",
   "execution_count": 128,
   "metadata": {},
   "outputs": [
    {
     "name": "stdout",
     "output_type": "stream",
     "text": [
      "dog \n",
      "ant bear\n",
      "dog cat\n",
      "ant bear\n"
     ]
    }
   ],
   "source": [
    "# essentially just providing an empty or a None value for a parameter's default value\n",
    "# in this example, making i3 and empty string by default is making it an optional argument\n",
    "# because if we dont provide a value for it, it will do nothing\n",
    "def func(i1, i2, i3='', i4='d'):\n",
    "    print(i4, i3)\n",
    "    print(i1, i2)\n",
    "    \n",
    "func('ant', 'bear', i4='dog')\n",
    "func('ant', 'bear', i3='cat', i4='dog')\n",
    "\n",
    "# required parameters should come before parameters with default values should come before optional parameters\n",
    "# example of that proper order\n",
    "def func(req_param, def_param='Default', optional_param=None):\n",
    "    pass"
   ]
  },
  {
   "cell_type": "markdown",
   "metadata": {},
   "source": [
    "##### Keyword Arguments"
   ]
  },
  {
   "cell_type": "code",
   "execution_count": null,
   "metadata": {},
   "outputs": [],
   "source": [
    "# last_name='Max', first_name='Smith' in the function call\n",
    "\n",
    "# see above"
   ]
  },
  {
   "cell_type": "markdown",
   "metadata": {},
   "source": [
    "# Creating a start, stop, step function"
   ]
  },
  {
   "cell_type": "code",
   "execution_count": 2,
   "metadata": {
    "scrolled": true
   },
   "outputs": [
    {
     "name": "stdout",
     "output_type": "stream",
     "text": [
      "example output:  [3, 5, 7, 9, 11]\n",
      "example output:  [0, 1, 2]\n",
      "[0, 1, 2]\n",
      "[3, 5, 7, 9, 11]\n",
      "[1000, 2500, 4000, 5500, 7000, 8500]\n"
     ]
    }
   ],
   "source": [
    "# make our own version of range()\n",
    "# range's parameters\n",
    "# start: default 0\n",
    "# stop: required\n",
    "# step: default 1\n",
    "print('example output: ', list(range(3, 12, 2)))\n",
    "print('example output: ', list(range(3)))\n",
    "# we are making a function here to mimic list(range(<start>, <stop>, <step>)) a list created with the range()\n",
    "# the range function in reality is something called a generator that uses a keyword we haven't learned about yet\n",
    "\n",
    "def myRange(stop, start=0, step=1):\n",
    "    #print(stop, start, step)\n",
    "    # adding things to a list\n",
    "        # i need an empty list\n",
    "        # .append()\n",
    "    # doing multiple steps\n",
    "        # i need a loop\n",
    "        # which kind of loop?\n",
    "            # i want to repeat my adding to the list as long as i havent gotten past my stop value\n",
    "                # in other words: I want to repeat while my start value is less than my stop value\n",
    "                    # while start < stop:\n",
    "                    # how does the while loop stop? well, by increasing start until it reaches stop\n",
    "                    # so i'll need a line redefining start in my loop\n",
    "    ans = []\n",
    "    while start < stop:\n",
    "        ans.append(start)\n",
    "        start = start + step\n",
    "    #print(ans) # except for testing purposes to give yourself more information\n",
    "    # you should avoid using prints inside of functions (unless the point of the function is printing stuff)\n",
    "    return ans\n",
    "returned_value = myRange(3)\n",
    "rv1 = myRange(12, 3, 2)\n",
    "rv3 = myRange(10000, 1000, 1500)\n",
    "print(returned_value)\n",
    "print(rv1)\n",
    "print(rv3)\n",
    "# note that this range function is incomplete -> it does not work for negative steps\n",
    "# we need to write a different loop for negative steps\n",
    "# and/or use conditionals/modify our arguments when they first come in if step is negative"
   ]
  },
  {
   "cell_type": "markdown",
   "metadata": {},
   "source": [
    "##### Returning Values"
   ]
  },
  {
   "cell_type": "code",
   "execution_count": 142,
   "metadata": {},
   "outputs": [
    {
     "name": "stdout",
     "output_type": "stream",
     "text": [
      "7\n"
     ]
    }
   ],
   "source": [
    "# see above\n",
    "\n",
    "# when you return something from a function, the function stops running\n",
    "# and the function call is transformed into that returned value\n",
    "# use the return keyword\n",
    "\n",
    "# the default of a function's return\n",
    "# basically if you have no return statement\n",
    "# is to return None\n",
    "def func():\n",
    "    x = 3\n",
    "    y = 4\n",
    "    x + y\n",
    "    # vs. probably intended 'return x+y'\n",
    "    \n",
    "return_val = func()\n",
    "print(return_val)"
   ]
  },
  {
   "cell_type": "markdown",
   "metadata": {},
   "source": [
    "##### *args"
   ]
  },
  {
   "cell_type": "code",
   "execution_count": null,
   "metadata": {},
   "outputs": [],
   "source": [
    "# will come back to this"
   ]
  },
  {
   "cell_type": "markdown",
   "metadata": {},
   "source": [
    "##### Docstring"
   ]
  },
  {
   "cell_type": "code",
   "execution_count": null,
   "metadata": {},
   "outputs": [],
   "source": [
    "# will come back to this, not important for function working"
   ]
  },
  {
   "cell_type": "markdown",
   "metadata": {},
   "source": [
    "##### Using a User Function in a Loop"
   ]
  },
  {
   "cell_type": "code",
   "execution_count": 3,
   "metadata": {},
   "outputs": [
    {
     "name": "stdout",
     "output_type": "stream",
     "text": [
      "[[], [0], [0, 1], [0, 1, 2], [0, 1, 2, 3], [0, 1, 2, 3, 4], [0, 1, 2, 3, 4, 5], [0, 1, 2, 3, 4, 5, 6], [0, 1, 2, 3, 4, 5, 6, 7], [0, 1, 2, 3, 4, 5, 6, 7, 8]]\n"
     ]
    }
   ],
   "source": [
    "# I defined myRange() in the above code block\n",
    "ans = []\n",
    "for x in myRange(10):\n",
    "    ans.append(myRange(x))\n",
    "\n",
    "print(ans)"
   ]
  },
  {
   "cell_type": "markdown",
   "metadata": {},
   "source": [
    "## Function Exercise <br>\n",
    "<p>Write a function that loops through a list of first_names and a list of last_names, combines the two and return a list of full_names</p>"
   ]
  },
  {
   "cell_type": "code",
   "execution_count": null,
   "metadata": {},
   "outputs": [],
   "source": [
    "first_name = ['John', 'Evan', 'Jordan', 'Max']\n",
    "last_name = ['Smith', 'Smith', 'Williams', 'Bell']\n",
    "\n",
    "# Output: ['John Smith', 'Evan Smith', 'Jordan Williams', 'Max Bell']\n"
   ]
  },
  {
   "cell_type": "markdown",
   "metadata": {},
   "source": [
    "## Scope <br>\n",
    "<p>Scope refers to the ability to access variables, different types of scope include:<br>a) Global<br>b) Function (local)<br>c) Class (local)</p>"
   ]
  },
  {
   "cell_type": "code",
   "execution_count": 4,
   "metadata": {},
   "outputs": [
    {
     "ename": "NameError",
     "evalue": "name 'bagel' is not defined",
     "output_type": "error",
     "traceback": [
      "\u001b[1;31m---------------------------------------------------------------------------\u001b[0m",
      "\u001b[1;31mNameError\u001b[0m                                 Traceback (most recent call last)",
      "\u001b[1;32m<ipython-input-4-00f3e716c763>\u001b[0m in \u001b[0;36m<module>\u001b[1;34m\u001b[0m\n\u001b[0;32m      2\u001b[0m     \u001b[0mbagel\u001b[0m \u001b[1;33m=\u001b[0m \u001b[1;34m'A delicious snack'\u001b[0m\u001b[1;33m\u001b[0m\u001b[1;33m\u001b[0m\u001b[0m\n\u001b[0;32m      3\u001b[0m \u001b[1;33m\u001b[0m\u001b[0m\n\u001b[1;32m----> 4\u001b[1;33m \u001b[0mprint\u001b[0m\u001b[1;33m(\u001b[0m\u001b[0mbagel\u001b[0m\u001b[1;33m)\u001b[0m\u001b[1;33m\u001b[0m\u001b[1;33m\u001b[0m\u001b[0m\n\u001b[0m",
      "\u001b[1;31mNameError\u001b[0m: name 'bagel' is not defined"
     ]
    }
   ],
   "source": [
    "def func():\n",
    "    bagel = 'A delicious snack'\n",
    "\n",
    "print(bagel)\n",
    "\n",
    "# bagel has local scope, bagel only exists inside the function func\n",
    "# it cannot be seen by things outside of the func"
   ]
  },
  {
   "cell_type": "code",
   "execution_count": 7,
   "metadata": {},
   "outputs": [
    {
     "name": "stdout",
     "output_type": "stream",
     "text": [
      "Ooh look, A delicious snack !\n"
     ]
    }
   ],
   "source": [
    "bagel = 'A delicious snack'\n",
    "# bagel is defined globally, can be seen/used from anywhere\n",
    "# inside a function, outside a function, whatever\n",
    "def func():\n",
    "    print('Ooh look,', bagel, '!')\n",
    "\n",
    "func()"
   ]
  },
  {
   "cell_type": "markdown",
   "metadata": {},
   "source": [
    "# Exercises"
   ]
  },
  {
   "cell_type": "markdown",
   "metadata": {},
   "source": [
    "## Exercise 1 <br>\n",
    "<p>Given a list as a parameter,write a function that returns a list of numbers that are less than ten</b></i></p><br>\n",
    "<p> For example: Say your input parameter to the function is [1,11,14,5,8,9]...Your output should [1,5,8,9]</p>"
   ]
  },
  {
   "cell_type": "code",
   "execution_count": 24,
   "metadata": {},
   "outputs": [
    {
     "name": "stdout",
     "output_type": "stream",
     "text": [
      "[1, 14, 5, 8, 9]\n"
     ]
    }
   ],
   "source": [
    "# Use the following list - [1,11,14,5,8,9]\n",
    "\n",
    "given_list=[1,11,14,5,8,9]\n",
    "    \n",
    "#new_list=[] \n",
    "#for i in given_list:\n",
    " #   if i < 10 :\n",
    "  #      new_list.append(i)\n",
    "   # #return even_numbers\n",
    "#print(new_list)\n",
    "\n",
    "for i in given_list:\n",
    "    if i > 10:\n",
    "        given_list.remove(i)\n",
    "print(given_list)\n",
    "\n"
   ]
  },
  {
   "cell_type": "markdown",
   "metadata": {},
   "source": [
    "## Exercise 2 <br>\n",
    "<p>Write a function that takes in two lists and returns the two lists merged together and sorted<br>\n",
    "<b><i>Hint: You can use the .sort() method</i></b></p>"
   ]
  },
  {
   "cell_type": "code",
   "execution_count": 36,
   "metadata": {},
   "outputs": [
    {
     "name": "stdout",
     "output_type": "stream",
     "text": [
      "[1, 2, 3, 4, 5, 6, 3, 4, 5, 6, 7, 8, 10]\n",
      "[1, 2, 3, 3, 4, 4, 5, 5, 6, 6, 7, 8, 10]\n"
     ]
    }
   ],
   "source": [
    "l_1 = [1,2,3,4,5,6]\n",
    "l_2 = [3,4,5,6,7,8,10]\n",
    "\n",
    "merged_list= l_1+l_2\n",
    "print(merged_list)\n",
    "\n",
    "merged_list.sort()\n",
    "print(merged_list)\n",
    "\n"
   ]
  }
 ],
 "metadata": {
  "kernelspec": {
   "display_name": "Python 3",
   "language": "python",
   "name": "python3"
  },
  "language_info": {
   "codemirror_mode": {
    "name": "ipython",
    "version": 3
   },
   "file_extension": ".py",
   "mimetype": "text/x-python",
   "name": "python",
   "nbconvert_exporter": "python",
   "pygments_lexer": "ipython3",
   "version": "3.9.7"
  }
 },
 "nbformat": 4,
 "nbformat_minor": 2
}
