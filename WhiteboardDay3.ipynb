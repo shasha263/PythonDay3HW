{
 "cells": [
  {
   "cell_type": "markdown",
   "metadata": {},
   "source": [
    "Create a function that, given a list as a parameter, finds the even numbers inside the list. The function should then return a list.\n",
    "Example:\n",
    "Input: [2, 7, 10, 11, 12]\n",
    "Output: [2, 10, 12]"
   ]
  },
  {
   "cell_type": "code",
   "execution_count": 2,
   "metadata": {},
   "outputs": [
    {
     "data": {
      "text/plain": [
       "[2, 4, 6, 8, 10]"
      ]
     },
     "execution_count": 2,
     "metadata": {},
     "output_type": "execute_result"
    }
   ],
   "source": [
    "#input:list\n",
    "#output:list\n",
    "#steps: loop through the list, find odd remove, print\n",
    "\n",
    "def evennum_list(even_list):\n",
    "    #even_numbers=[] \n",
    "    #for i in even_list:\n",
    "     #   if i%2 == 0 :\n",
    "      #     even_numbers.append(i)\n",
    "    #return even_numbers\n",
    "    #print(even_numbers)\n",
    "\n",
    "  for i in even_list:\n",
    "    if i%2 != 0 :\n",
    "      even_list.remove(i)\n",
    "  return even_list\n",
    "  print(even_list)\n",
    "\n",
    "   # even_list=[i for i in even_list if i%2 == 0 ]\n",
    "    #print(even_list)\n",
    "     \n",
    "num_list= [2,4,5,6,7,8,9,10,11]\n",
    "evennum_list(num_list) \n",
    "\n",
    "\n"
   ]
  }
 ],
 "metadata": {
  "interpreter": {
   "hash": "b93b91927d7b2753ebe242aa7dfcdfef91881393d8b926ec2ce01874b09d686e"
  },
  "kernelspec": {
   "display_name": "Python 3.9.7 64-bit",
   "language": "python",
   "name": "python3"
  },
  "language_info": {
   "codemirror_mode": {
    "name": "ipython",
    "version": 3
   },
   "file_extension": ".py",
   "mimetype": "text/x-python",
   "name": "python",
   "nbconvert_exporter": "python",
   "pygments_lexer": "ipython3",
   "version": "3.9.7"
  },
  "orig_nbformat": 4
 },
 "nbformat": 4,
 "nbformat_minor": 2
}
